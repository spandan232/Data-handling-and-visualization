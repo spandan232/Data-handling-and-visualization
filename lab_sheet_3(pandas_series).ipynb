{
  "nbformat": 4,
  "nbformat_minor": 0,
  "metadata": {
    "colab": {
      "provenance": [],
      "mount_file_id": "1s4qkL4IOQfPTBM2I0knF3z8gRBmnuZKC",
      "authorship_tag": "ABX9TyOJT0GqFoz+4hFmYTqBdkpY",
      "include_colab_link": true
    },
    "kernelspec": {
      "name": "python3",
      "display_name": "Python 3"
    },
    "language_info": {
      "name": "python"
    }
  },
  "cells": [
    {
      "cell_type": "markdown",
      "metadata": {
        "id": "view-in-github",
        "colab_type": "text"
      },
      "source": [
        "<a href=\"https://colab.research.google.com/github/spandan232/Data-handling-and-visualization/blob/main/lab_sheet_3(pandas_series).ipynb\" target=\"_parent\"><img src=\"https://colab.research.google.com/assets/colab-badge.svg\" alt=\"Open In Colab\"/></a>"
      ]
    },
    {
      "cell_type": "markdown",
      "source": [
        "Creating pandas Series"
      ],
      "metadata": {
        "id": "Njkimj7JJWWi"
      }
    },
    {
      "cell_type": "code",
      "execution_count": null,
      "metadata": {
        "colab": {
          "base_uri": "https://localhost:8080/"
        },
        "id": "j6jdYFhK8Lwo",
        "outputId": "8a90d1e1-cbfe-4b39-86c8-d22b82d4323d"
      },
      "outputs": [
        {
          "output_type": "stream",
          "name": "stdout",
          "text": [
            "0    1.0\n",
            "1    7.2\n",
            "2    2.0\n",
            "dtype: float64\n"
          ]
        }
      ],
      "source": [
        "import pandas as pd\n",
        "a=[1,7.2,2]\n",
        "myvar=pd.Series(a)\n",
        "print(myvar)"
      ]
    },
    {
      "cell_type": "markdown",
      "source": [
        "To return first value of Series"
      ],
      "metadata": {
        "id": "uYcUGS2YJe8C"
      }
    },
    {
      "cell_type": "code",
      "source": [
        "print(myvar[0])"
      ],
      "metadata": {
        "colab": {
          "base_uri": "https://localhost:8080/"
        },
        "id": "kVnlyeFWIrY0",
        "outputId": "41232bf0-934e-4908-d9f5-dee2d3ded467"
      },
      "execution_count": null,
      "outputs": [
        {
          "output_type": "stream",
          "name": "stdout",
          "text": [
            "1.0\n"
          ]
        }
      ]
    },
    {
      "cell_type": "markdown",
      "source": [
        "Create Labels"
      ],
      "metadata": {
        "id": "7GDWgOsqJn8p"
      }
    },
    {
      "cell_type": "code",
      "source": [
        "a=[1,2,4]\n",
        "myvar=pd.Series(a,index=[\"x\",\"y\",\"z\"])\n",
        "print(myvar)"
      ],
      "metadata": {
        "colab": {
          "base_uri": "https://localhost:8080/"
        },
        "id": "5pl5LqqoJB8p",
        "outputId": "3fdf8635-f91f-4439-8a68-319a8fcdba8c"
      },
      "execution_count": null,
      "outputs": [
        {
          "output_type": "stream",
          "name": "stdout",
          "text": [
            "0    1.0\n",
            "1    7.2\n",
            "2    2.0\n",
            "dtype: float64\n"
          ]
        }
      ]
    },
    {
      "cell_type": "markdown",
      "source": [
        "Dictionries"
      ],
      "metadata": {
        "id": "KsfnRgXQKhtC"
      }
    },
    {
      "cell_type": "code",
      "source": [
        "thisdict={'brand':'Ford',\n",
        "          'model':'Mustang',\n",
        "            'year':1964}\n",
        "            print(thisdict)"
      ],
      "metadata": {
        "colab": {
          "base_uri": "https://localhost:8080/",
          "height": 106
        },
        "id": "cgqDLh_RJx-T",
        "outputId": "2ec04c97-6393-4e7f-9a15-b298af2c7e73"
      },
      "execution_count": null,
      "outputs": [
        {
          "output_type": "error",
          "ename": "SyntaxError",
          "evalue": "incomplete input (<ipython-input-11-cc8062b49648>, line 1)",
          "traceback": [
            "\u001b[0;36m  File \u001b[0;32m\"<ipython-input-11-cc8062b49648>\"\u001b[0;36m, line \u001b[0;32m1\u001b[0m\n\u001b[0;31m    thisdict={'brand':'Ford',\u001b[0m\n\u001b[0m                             ^\u001b[0m\n\u001b[0;31mSyntaxError\u001b[0m\u001b[0;31m:\u001b[0m incomplete input\n"
          ]
        }
      ]
    }
  ]
}